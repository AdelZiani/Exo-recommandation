{
 "cells": [
  {
   "cell_type": "markdown",
   "id": "alpine-banana",
   "metadata": {},
   "source": [
    "# IA Détection d'exercices"
   ]
  },
  {
   "cell_type": "markdown",
   "id": "searching-turtle",
   "metadata": {},
   "source": [
    "### Importation des Bibliothèques"
   ]
  },
  {
   "cell_type": "code",
   "execution_count": 61,
   "id": "serial-cleaner",
   "metadata": {},
   "outputs": [],
   "source": [
    "import tensorflow as tf\n",
    "from tensorflow.keras import layers\n",
    "from tensorflow.keras import losses\n",
    "from sklearn.model_selection import train_test_split\n",
    "import pandas as pd\n",
    "import ast\n",
    "import numpy as np"
   ]
  },
  {
   "cell_type": "markdown",
   "id": "retained-martin",
   "metadata": {},
   "source": [
    "### Récuperation de la base de données"
   ]
  },
  {
   "cell_type": "code",
   "execution_count": 75,
   "id": "active-cabinet",
   "metadata": {},
   "outputs": [
    {
     "name": "stdout",
     "output_type": "stream",
     "text": [
      "89\n"
     ]
    }
   ],
   "source": [
    "dataset = pd.read_csv(\"data.csv\")\n",
    "dataset['Solution'] = dataset['Solution'].apply(ast.literal_eval)\n",
    "dataset['Tags'] = dataset['Tags'].apply(ast.literal_eval)\n",
    "type(dataset[\"Solution\"][0])\n",
    "X = np.array(dataset['Solution'].tolist(), dtype=np.float32)  # Shape: (n_samples, n_features)\n",
    "y = np.array(dataset['Tags'].tolist(), dtype=np.float32) \n",
    "print(len(y[1]))"
   ]
  },
  {
   "cell_type": "markdown",
   "id": "limiting-spiritual",
   "metadata": {},
   "source": [
    "### Séparation Base de test, base d'entrainement"
   ]
  },
  {
   "cell_type": "code",
   "execution_count": 70,
   "id": "directed-guide",
   "metadata": {},
   "outputs": [
    {
     "data": {
      "text/plain": [
       "17"
      ]
     },
     "execution_count": 70,
     "metadata": {},
     "output_type": "execute_result"
    }
   ],
   "source": [
    "X_train, X_test, y_train, y_test = train_test_split(X, y)\n",
    "\n",
    "len(X_test)"
   ]
  },
  {
   "cell_type": "markdown",
   "id": "faced-immunology",
   "metadata": {},
   "source": [
    "### Création du réseau de neurones"
   ]
  },
  {
   "cell_type": "code",
   "execution_count": 86,
   "id": "fiscal-purse",
   "metadata": {},
   "outputs": [],
   "source": [
    "model = tf.keras.Sequential([\n",
    "    tf.keras.layers.Dense(4096, activation='relu', input_shape=(768,)),\n",
    "    tf.keras.layers.Dense(2048, activation='relu'),\n",
    "    tf.keras.layers.Dense(1024, activation='relu'),\n",
    "    tf.keras.layers.Dense(512, activation='relu'),\n",
    "    tf.keras.layers.Dense(256, activation='relu'),\n",
    "    tf.keras.layers.Dense(128, activation='relu'),\n",
    "    tf.keras.layers.Dense(89, activation='sigmoid')  # sigmoid pour sortie binaire\n",
    "])\n",
    "# Compilation du modèle\n",
    "model.compile(optimizer='adam', loss='binary_crossentropy', metrics=['accuracy'])\n"
   ]
  },
  {
   "cell_type": "markdown",
   "id": "fallen-scholarship",
   "metadata": {},
   "source": [
    "### Entrainement du modèle"
   ]
  },
  {
   "cell_type": "code",
   "execution_count": 89,
   "id": "indie-frame",
   "metadata": {},
   "outputs": [
    {
     "name": "stdout",
     "output_type": "stream",
     "text": [
      "Epoch 1/100\n",
      "50/50 [==============================] - 2s 31ms/step - loss: 0.5265 - accuracy: 0.0400\n",
      "Epoch 2/100\n",
      "50/50 [==============================] - 2s 31ms/step - loss: 0.2708 - accuracy: 0.0000e+00\n",
      "Epoch 3/100\n",
      "50/50 [==============================] - 2s 30ms/step - loss: 0.2764 - accuracy: 0.0000e+00\n",
      "Epoch 4/100\n",
      "50/50 [==============================] - 2s 31ms/step - loss: 0.2567 - accuracy: 0.0000e+00\n",
      "Epoch 5/100\n",
      "50/50 [==============================] - 2s 31ms/step - loss: 0.2614 - accuracy: 0.0000e+00\n",
      "Epoch 6/100\n",
      "50/50 [==============================] - 2s 30ms/step - loss: 0.2455 - accuracy: 0.0000e+00\n",
      "Epoch 7/100\n",
      "50/50 [==============================] - 2s 30ms/step - loss: 0.2473 - accuracy: 0.0000e+00\n",
      "Epoch 8/100\n",
      "50/50 [==============================] - 2s 31ms/step - loss: 0.2368 - accuracy: 0.0000e+00\n",
      "Epoch 9/100\n",
      "50/50 [==============================] - 2s 31ms/step - loss: 0.2459 - accuracy: 0.0000e+00\n",
      "Epoch 10/100\n",
      "50/50 [==============================] - 2s 30ms/step - loss: 0.2430 - accuracy: 0.0000e+00\n",
      "Epoch 11/100\n",
      "50/50 [==============================] - 2s 30ms/step - loss: 0.2449 - accuracy: 0.0000e+00\n",
      "Epoch 12/100\n",
      "50/50 [==============================] - 2s 31ms/step - loss: 0.2443 - accuracy: 0.0000e+00\n",
      "Epoch 13/100\n",
      "50/50 [==============================] - 2s 31ms/step - loss: 0.2360 - accuracy: 0.0000e+00\n",
      "Epoch 14/100\n",
      "50/50 [==============================] - 2s 31ms/step - loss: 0.2324 - accuracy: 0.0000e+00\n",
      "Epoch 15/100\n",
      "50/50 [==============================] - 2s 31ms/step - loss: 0.2277 - accuracy: 0.0000e+00\n",
      "Epoch 16/100\n",
      "50/50 [==============================] - 2s 31ms/step - loss: 0.2201 - accuracy: 0.0000e+00\n",
      "Epoch 17/100\n",
      "50/50 [==============================] - 2s 31ms/step - loss: 0.2377 - accuracy: 0.0000e+00\n",
      "Epoch 18/100\n",
      "50/50 [==============================] - 2s 31ms/step - loss: 0.2612 - accuracy: 0.0000e+00\n",
      "Epoch 19/100\n",
      "50/50 [==============================] - 2s 31ms/step - loss: 0.2345 - accuracy: 0.0000e+00\n",
      "Epoch 20/100\n",
      "50/50 [==============================] - 2s 31ms/step - loss: 0.2382 - accuracy: 0.0000e+00\n",
      "Epoch 21/100\n",
      "50/50 [==============================] - 2s 31ms/step - loss: 0.2544 - accuracy: 0.0000e+00\n",
      "Epoch 22/100\n",
      "50/50 [==============================] - 2s 31ms/step - loss: 0.2415 - accuracy: 0.0000e+00\n",
      "Epoch 23/100\n",
      "50/50 [==============================] - 2s 31ms/step - loss: 0.2596 - accuracy: 0.0000e+00\n",
      "Epoch 24/100\n",
      "50/50 [==============================] - 2s 31ms/step - loss: 0.2510 - accuracy: 0.0000e+00\n",
      "Epoch 25/100\n",
      "50/50 [==============================] - 2s 31ms/step - loss: 0.2491 - accuracy: 0.0000e+00\n",
      "Epoch 26/100\n",
      "50/50 [==============================] - 2s 31ms/step - loss: 0.2360 - accuracy: 0.0000e+00\n",
      "Epoch 27/100\n",
      "50/50 [==============================] - 2s 31ms/step - loss: 0.2311 - accuracy: 0.0000e+00\n",
      "Epoch 28/100\n",
      "50/50 [==============================] - 2s 31ms/step - loss: 0.2530 - accuracy: 0.0000e+00\n",
      "Epoch 29/100\n",
      "50/50 [==============================] - 2s 31ms/step - loss: 0.2195 - accuracy: 0.0000e+00\n",
      "Epoch 30/100\n",
      "50/50 [==============================] - 2s 31ms/step - loss: 0.2304 - accuracy: 0.0000e+00\n",
      "Epoch 31/100\n",
      "50/50 [==============================] - 2s 31ms/step - loss: 0.2095 - accuracy: 0.0000e+00\n",
      "Epoch 32/100\n",
      "50/50 [==============================] - 2s 31ms/step - loss: 0.2322 - accuracy: 0.0000e+00\n",
      "Epoch 33/100\n",
      "50/50 [==============================] - 2s 31ms/step - loss: 0.2196 - accuracy: 0.0000e+00\n",
      "Epoch 34/100\n",
      "50/50 [==============================] - 2s 31ms/step - loss: 0.2173 - accuracy: 0.0000e+00\n",
      "Epoch 35/100\n",
      "50/50 [==============================] - 2s 31ms/step - loss: 0.2143 - accuracy: 0.0000e+00\n",
      "Epoch 36/100\n",
      "50/50 [==============================] - 2s 31ms/step - loss: 0.2161 - accuracy: 0.0000e+00\n",
      "Epoch 37/100\n",
      "50/50 [==============================] - 2s 31ms/step - loss: 0.2228 - accuracy: 0.0000e+00\n",
      "Epoch 38/100\n",
      "50/50 [==============================] - 2s 31ms/step - loss: 0.1980 - accuracy: 0.0000e+00\n",
      "Epoch 39/100\n",
      "50/50 [==============================] - 2s 31ms/step - loss: 0.1915 - accuracy: 0.0000e+00\n",
      "Epoch 40/100\n",
      "50/50 [==============================] - 2s 31ms/step - loss: 0.1992 - accuracy: 0.0000e+00\n",
      "Epoch 41/100\n",
      "50/50 [==============================] - 2s 31ms/step - loss: 0.2438 - accuracy: 0.0000e+00\n",
      "Epoch 42/100\n",
      "50/50 [==============================] - 2s 31ms/step - loss: 0.2331 - accuracy: 0.0000e+00\n",
      "Epoch 43/100\n",
      "50/50 [==============================] - 2s 31ms/step - loss: 0.2148 - accuracy: 0.0000e+00\n",
      "Epoch 44/100\n",
      "50/50 [==============================] - 2s 31ms/step - loss: 0.1892 - accuracy: 0.0000e+00\n",
      "Epoch 45/100\n",
      "50/50 [==============================] - 2s 31ms/step - loss: 0.1938 - accuracy: 0.0000e+00\n",
      "Epoch 46/100\n",
      "50/50 [==============================] - 2s 31ms/step - loss: 0.1917 - accuracy: 0.0000e+00\n",
      "Epoch 47/100\n",
      "50/50 [==============================] - 2s 31ms/step - loss: 0.1845 - accuracy: 0.0000e+00\n",
      "Epoch 48/100\n",
      "50/50 [==============================] - 2s 31ms/step - loss: 0.2057 - accuracy: 0.0000e+00\n",
      "Epoch 49/100\n",
      "50/50 [==============================] - 2s 31ms/step - loss: 0.1930 - accuracy: 0.0000e+00\n",
      "Epoch 50/100\n",
      "50/50 [==============================] - 2s 31ms/step - loss: 0.1868 - accuracy: 0.0000e+00\n",
      "Epoch 51/100\n",
      "50/50 [==============================] - 2s 31ms/step - loss: 0.1823 - accuracy: 0.0000e+00\n",
      "Epoch 52/100\n",
      "50/50 [==============================] - 2s 31ms/step - loss: 0.1851 - accuracy: 0.0000e+00\n",
      "Epoch 53/100\n",
      "50/50 [==============================] - 2s 31ms/step - loss: 0.1914 - accuracy: 0.0000e+00\n",
      "Epoch 54/100\n",
      "50/50 [==============================] - 2s 31ms/step - loss: 0.2142 - accuracy: 0.0000e+00\n",
      "Epoch 55/100\n",
      "50/50 [==============================] - 2s 31ms/step - loss: 0.1946 - accuracy: 0.0000e+00\n",
      "Epoch 56/100\n",
      "50/50 [==============================] - 2s 31ms/step - loss: 0.1779 - accuracy: 0.0000e+00\n",
      "Epoch 57/100\n",
      "50/50 [==============================] - 2s 31ms/step - loss: 0.1739 - accuracy: 0.0000e+00\n",
      "Epoch 58/100\n",
      "50/50 [==============================] - 2s 31ms/step - loss: 0.1677 - accuracy: 0.0000e+00\n",
      "Epoch 59/100\n",
      "50/50 [==============================] - 2s 31ms/step - loss: 0.1987 - accuracy: 0.0000e+00\n",
      "Epoch 60/100\n",
      "50/50 [==============================] - 2s 31ms/step - loss: 0.1856 - accuracy: 0.0000e+00\n",
      "Epoch 61/100\n",
      "50/50 [==============================] - 2s 31ms/step - loss: 0.1935 - accuracy: 0.0000e+00\n",
      "Epoch 62/100\n",
      "50/50 [==============================] - 2s 31ms/step - loss: 0.1883 - accuracy: 0.0000e+00\n",
      "Epoch 63/100\n",
      "50/50 [==============================] - 2s 31ms/step - loss: 0.1834 - accuracy: 0.0000e+00\n",
      "Epoch 64/100\n",
      "50/50 [==============================] - 2s 31ms/step - loss: 0.1788 - accuracy: 0.0000e+00\n",
      "Epoch 65/100\n",
      "50/50 [==============================] - 2s 31ms/step - loss: 0.1845 - accuracy: 0.0000e+00\n",
      "Epoch 66/100\n",
      "50/50 [==============================] - 2s 31ms/step - loss: 0.1738 - accuracy: 0.0000e+00\n",
      "Epoch 67/100\n",
      "50/50 [==============================] - 2s 31ms/step - loss: 0.1652 - accuracy: 0.0000e+00\n",
      "Epoch 68/100\n",
      "50/50 [==============================] - 2s 31ms/step - loss: 0.1697 - accuracy: 0.0000e+00\n",
      "Epoch 69/100\n",
      "50/50 [==============================] - 2s 31ms/step - loss: 0.1727 - accuracy: 0.0000e+00\n",
      "Epoch 70/100\n",
      "50/50 [==============================] - 2s 31ms/step - loss: 0.1758 - accuracy: 0.0000e+00\n",
      "Epoch 71/100\n",
      "50/50 [==============================] - 2s 31ms/step - loss: 0.1710 - accuracy: 0.0000e+00\n",
      "Epoch 72/100\n",
      "50/50 [==============================] - 2s 31ms/step - loss: 0.1638 - accuracy: 0.0000e+00\n",
      "Epoch 73/100\n",
      "50/50 [==============================] - 2s 31ms/step - loss: 0.1800 - accuracy: 0.0000e+00\n",
      "Epoch 74/100\n",
      "50/50 [==============================] - 2s 31ms/step - loss: 0.1709 - accuracy: 0.0000e+00\n",
      "Epoch 75/100\n",
      "50/50 [==============================] - 2s 31ms/step - loss: 0.1591 - accuracy: 0.0000e+00\n",
      "Epoch 76/100\n",
      "50/50 [==============================] - 2s 31ms/step - loss: 0.1643 - accuracy: 0.0000e+00\n",
      "Epoch 77/100\n",
      "50/50 [==============================] - 2s 31ms/step - loss: 0.1745 - accuracy: 0.0000e+00\n",
      "Epoch 78/100\n",
      "50/50 [==============================] - 2s 31ms/step - loss: 0.1827 - accuracy: 0.0000e+00\n",
      "Epoch 79/100\n"
     ]
    },
    {
     "name": "stdout",
     "output_type": "stream",
     "text": [
      "50/50 [==============================] - 2s 31ms/step - loss: 0.1717 - accuracy: 0.0000e+00\n",
      "Epoch 80/100\n",
      "50/50 [==============================] - 2s 31ms/step - loss: 0.1671 - accuracy: 0.0000e+00\n",
      "Epoch 81/100\n",
      "50/50 [==============================] - 2s 31ms/step - loss: 0.1666 - accuracy: 0.0000e+00\n",
      "Epoch 82/100\n",
      "50/50 [==============================] - 2s 31ms/step - loss: 0.1569 - accuracy: 0.0000e+00\n",
      "Epoch 83/100\n",
      "50/50 [==============================] - 2s 31ms/step - loss: 0.1470 - accuracy: 0.0000e+00\n",
      "Epoch 84/100\n",
      "50/50 [==============================] - 2s 31ms/step - loss: 0.1479 - accuracy: 0.0000e+00\n",
      "Epoch 85/100\n",
      "50/50 [==============================] - 2s 31ms/step - loss: 0.1542 - accuracy: 0.0000e+00\n",
      "Epoch 86/100\n",
      "50/50 [==============================] - 2s 31ms/step - loss: 0.1715 - accuracy: 0.0000e+00\n",
      "Epoch 87/100\n",
      "50/50 [==============================] - 2s 31ms/step - loss: 0.1474 - accuracy: 0.0000e+00\n",
      "Epoch 88/100\n",
      "50/50 [==============================] - 2s 31ms/step - loss: 0.1382 - accuracy: 0.0000e+00\n",
      "Epoch 89/100\n",
      "50/50 [==============================] - 2s 31ms/step - loss: 0.1444 - accuracy: 0.0000e+00\n",
      "Epoch 90/100\n",
      "50/50 [==============================] - 2s 31ms/step - loss: 0.1389 - accuracy: 0.0000e+00\n",
      "Epoch 91/100\n",
      "50/50 [==============================] - 2s 31ms/step - loss: 0.1431 - accuracy: 0.0000e+00\n",
      "Epoch 92/100\n",
      "50/50 [==============================] - 2s 31ms/step - loss: 0.1767 - accuracy: 0.0000e+00\n",
      "Epoch 93/100\n",
      "50/50 [==============================] - 2s 31ms/step - loss: 0.1826 - accuracy: 0.0000e+00\n",
      "Epoch 94/100\n",
      "50/50 [==============================] - 2s 32ms/step - loss: 0.1835 - accuracy: 0.0000e+00\n",
      "Epoch 95/100\n",
      "50/50 [==============================] - 2s 32ms/step - loss: 0.2064 - accuracy: 0.0000e+00\n",
      "Epoch 96/100\n",
      "50/50 [==============================] - 2s 31ms/step - loss: 0.1578 - accuracy: 0.0000e+00\n",
      "Epoch 97/100\n",
      "50/50 [==============================] - 2s 33ms/step - loss: 0.1676 - accuracy: 0.0000e+00\n",
      "Epoch 98/100\n",
      "50/50 [==============================] - 2s 30ms/step - loss: 0.1524 - accuracy: 0.0000e+00\n",
      "Epoch 99/100\n",
      "50/50 [==============================] - 2s 31ms/step - loss: 0.1481 - accuracy: 0.0000e+00\n",
      "Epoch 100/100\n",
      "50/50 [==============================] - 2s 31ms/step - loss: 0.1484 - accuracy: 0.0000e+00\n"
     ]
    },
    {
     "data": {
      "text/plain": [
       "<keras.src.callbacks.History at 0x7fe820767730>"
      ]
     },
     "execution_count": 89,
     "metadata": {},
     "output_type": "execute_result"
    }
   ],
   "source": [
    "# Entraînement du modèle\n",
    "model.fit(X_train, y_train, epochs=100, verbose=1, batch_size=1)"
   ]
  },
  {
   "cell_type": "markdown",
   "id": "polar-genealogy",
   "metadata": {},
   "source": [
    "### Test du modèle"
   ]
  },
  {
   "cell_type": "code",
   "execution_count": 90,
   "id": "sensitive-sugar",
   "metadata": {},
   "outputs": [
    {
     "name": "stdout",
     "output_type": "stream",
     "text": [
      "Loss: 0.1276, Accuracy: 0.0000\n"
     ]
    }
   ],
   "source": [
    "loss, accuracy = model.evaluate(X_train, y_train, verbose=0)\n",
    "print(f\"Loss: {loss:.4f}, Accuracy: {accuracy:.4f}\")"
   ]
  },
  {
   "cell_type": "markdown",
   "id": "funny-montgomery",
   "metadata": {},
   "source": [
    "### Tests supplémentaires"
   ]
  },
  {
   "cell_type": "code",
   "execution_count": 91,
   "id": "economic-spider",
   "metadata": {},
   "outputs": [
    {
     "ename": "ValueError",
     "evalue": "in user code:\n\n    File \"/usr/local/lib/python3.9/dist-packages/keras/src/engine/training.py\", line 2440, in predict_function  *\n        return step_function(self, iterator)\n    File \"/usr/local/lib/python3.9/dist-packages/keras/src/engine/training.py\", line 2425, in step_function  **\n        outputs = model.distribute_strategy.run(run_step, args=(data,))\n    File \"/usr/local/lib/python3.9/dist-packages/keras/src/engine/training.py\", line 2413, in run_step  **\n        outputs = model.predict_step(data)\n    File \"/usr/local/lib/python3.9/dist-packages/keras/src/engine/training.py\", line 2381, in predict_step\n        return self(x, training=False)\n    File \"/usr/local/lib/python3.9/dist-packages/keras/src/utils/traceback_utils.py\", line 70, in error_handler\n        raise e.with_traceback(filtered_tb) from None\n    File \"/usr/local/lib/python3.9/dist-packages/keras/src/engine/input_spec.py\", line 253, in assert_input_compatibility\n        raise ValueError(\n\n    ValueError: Exception encountered when calling layer 'sequential_13' (type Sequential).\n    \n    Input 0 of layer \"dense_36\" is incompatible with the layer: expected min_ndim=2, found ndim=1. Full shape received: (32,)\n    \n    Call arguments received by layer 'sequential_13' (type Sequential):\n      • inputs=tf.Tensor(shape=(32,), dtype=float32)\n      • training=False\n      • mask=None\n",
     "output_type": "error",
     "traceback": [
      "\u001b[0;31m---------------------------------------------------------------------------\u001b[0m",
      "\u001b[0;31mValueError\u001b[0m                                Traceback (most recent call last)",
      "\u001b[0;32m<ipython-input-91-6fed98f14d48>\u001b[0m in \u001b[0;36m<module>\u001b[0;34m\u001b[0m\n\u001b[0;32m----> 1\u001b[0;31m \u001b[0mmodel\u001b[0m\u001b[0;34m.\u001b[0m\u001b[0mpredict\u001b[0m\u001b[0;34m(\u001b[0m\u001b[0mX_train\u001b[0m\u001b[0;34m[\u001b[0m\u001b[0;36m0\u001b[0m\u001b[0;34m]\u001b[0m\u001b[0;34m)\u001b[0m\u001b[0;34m\u001b[0m\u001b[0;34m\u001b[0m\u001b[0m\n\u001b[0m",
      "\u001b[0;32m/usr/local/lib/python3.9/dist-packages/keras/src/utils/traceback_utils.py\u001b[0m in \u001b[0;36merror_handler\u001b[0;34m(*args, **kwargs)\u001b[0m\n\u001b[1;32m     68\u001b[0m             \u001b[0;31m# To get the full stack trace, call:\u001b[0m\u001b[0;34m\u001b[0m\u001b[0;34m\u001b[0m\u001b[0;34m\u001b[0m\u001b[0m\n\u001b[1;32m     69\u001b[0m             \u001b[0;31m# `tf.debugging.disable_traceback_filtering()`\u001b[0m\u001b[0;34m\u001b[0m\u001b[0;34m\u001b[0m\u001b[0;34m\u001b[0m\u001b[0m\n\u001b[0;32m---> 70\u001b[0;31m             \u001b[0;32mraise\u001b[0m \u001b[0me\u001b[0m\u001b[0;34m.\u001b[0m\u001b[0mwith_traceback\u001b[0m\u001b[0;34m(\u001b[0m\u001b[0mfiltered_tb\u001b[0m\u001b[0;34m)\u001b[0m \u001b[0;32mfrom\u001b[0m \u001b[0;32mNone\u001b[0m\u001b[0;34m\u001b[0m\u001b[0;34m\u001b[0m\u001b[0m\n\u001b[0m\u001b[1;32m     71\u001b[0m         \u001b[0;32mfinally\u001b[0m\u001b[0;34m:\u001b[0m\u001b[0;34m\u001b[0m\u001b[0;34m\u001b[0m\u001b[0m\n\u001b[1;32m     72\u001b[0m             \u001b[0;32mdel\u001b[0m \u001b[0mfiltered_tb\u001b[0m\u001b[0;34m\u001b[0m\u001b[0;34m\u001b[0m\u001b[0m\n",
      "\u001b[0;32m/usr/local/lib/python3.9/dist-packages/keras/src/engine/training.py\u001b[0m in \u001b[0;36mtf__predict_function\u001b[0;34m(iterator)\u001b[0m\n\u001b[1;32m     13\u001b[0m                 \u001b[0;32mtry\u001b[0m\u001b[0;34m:\u001b[0m\u001b[0;34m\u001b[0m\u001b[0;34m\u001b[0m\u001b[0m\n\u001b[1;32m     14\u001b[0m                     \u001b[0mdo_return\u001b[0m \u001b[0;34m=\u001b[0m \u001b[0;32mTrue\u001b[0m\u001b[0;34m\u001b[0m\u001b[0;34m\u001b[0m\u001b[0m\n\u001b[0;32m---> 15\u001b[0;31m                     \u001b[0mretval_\u001b[0m \u001b[0;34m=\u001b[0m \u001b[0mag__\u001b[0m\u001b[0;34m.\u001b[0m\u001b[0mconverted_call\u001b[0m\u001b[0;34m(\u001b[0m\u001b[0mag__\u001b[0m\u001b[0;34m.\u001b[0m\u001b[0mld\u001b[0m\u001b[0;34m(\u001b[0m\u001b[0mstep_function\u001b[0m\u001b[0;34m)\u001b[0m\u001b[0;34m,\u001b[0m \u001b[0;34m(\u001b[0m\u001b[0mag__\u001b[0m\u001b[0;34m.\u001b[0m\u001b[0mld\u001b[0m\u001b[0;34m(\u001b[0m\u001b[0mself\u001b[0m\u001b[0;34m)\u001b[0m\u001b[0;34m,\u001b[0m \u001b[0mag__\u001b[0m\u001b[0;34m.\u001b[0m\u001b[0mld\u001b[0m\u001b[0;34m(\u001b[0m\u001b[0miterator\u001b[0m\u001b[0;34m)\u001b[0m\u001b[0;34m)\u001b[0m\u001b[0;34m,\u001b[0m \u001b[0;32mNone\u001b[0m\u001b[0;34m,\u001b[0m \u001b[0mfscope\u001b[0m\u001b[0;34m)\u001b[0m\u001b[0;34m\u001b[0m\u001b[0;34m\u001b[0m\u001b[0m\n\u001b[0m\u001b[1;32m     16\u001b[0m                 \u001b[0;32mexcept\u001b[0m\u001b[0;34m:\u001b[0m\u001b[0;34m\u001b[0m\u001b[0;34m\u001b[0m\u001b[0m\n\u001b[1;32m     17\u001b[0m                     \u001b[0mdo_return\u001b[0m \u001b[0;34m=\u001b[0m \u001b[0;32mFalse\u001b[0m\u001b[0;34m\u001b[0m\u001b[0;34m\u001b[0m\u001b[0m\n",
      "\u001b[0;31mValueError\u001b[0m: in user code:\n\n    File \"/usr/local/lib/python3.9/dist-packages/keras/src/engine/training.py\", line 2440, in predict_function  *\n        return step_function(self, iterator)\n    File \"/usr/local/lib/python3.9/dist-packages/keras/src/engine/training.py\", line 2425, in step_function  **\n        outputs = model.distribute_strategy.run(run_step, args=(data,))\n    File \"/usr/local/lib/python3.9/dist-packages/keras/src/engine/training.py\", line 2413, in run_step  **\n        outputs = model.predict_step(data)\n    File \"/usr/local/lib/python3.9/dist-packages/keras/src/engine/training.py\", line 2381, in predict_step\n        return self(x, training=False)\n    File \"/usr/local/lib/python3.9/dist-packages/keras/src/utils/traceback_utils.py\", line 70, in error_handler\n        raise e.with_traceback(filtered_tb) from None\n    File \"/usr/local/lib/python3.9/dist-packages/keras/src/engine/input_spec.py\", line 253, in assert_input_compatibility\n        raise ValueError(\n\n    ValueError: Exception encountered when calling layer 'sequential_13' (type Sequential).\n    \n    Input 0 of layer \"dense_36\" is incompatible with the layer: expected min_ndim=2, found ndim=1. Full shape received: (32,)\n    \n    Call arguments received by layer 'sequential_13' (type Sequential):\n      • inputs=tf.Tensor(shape=(32,), dtype=float32)\n      • training=False\n      • mask=None\n"
     ]
    }
   ],
   "source": [
    "model.predict(X_train[0].reshape(1, -1))"
   ]
  }
 ],
 "metadata": {
  "kernelspec": {
   "display_name": "Python 3",
   "language": "python",
   "name": "python3"
  },
  "language_info": {
   "codemirror_mode": {
    "name": "ipython",
    "version": 3
   },
   "file_extension": ".py",
   "mimetype": "text/x-python",
   "name": "python",
   "nbconvert_exporter": "python",
   "pygments_lexer": "ipython3",
   "version": "3.9.2"
  }
 },
 "nbformat": 4,
 "nbformat_minor": 5
}
