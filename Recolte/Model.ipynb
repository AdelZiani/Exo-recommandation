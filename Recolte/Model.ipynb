{
 "cells": [
  {
   "cell_type": "markdown",
   "id": "expanded-morgan",
   "metadata": {},
   "source": [
    "Ici nous allons créer un réseau de neuronnes qui détecte les exercices simmilaires automatiquement"
   ]
  },
  {
   "cell_type": "markdown",
   "id": "massive-tracker",
   "metadata": {},
   "source": [
    "# Importations"
   ]
  },
  {
   "cell_type": "code",
   "execution_count": 3,
   "id": "blocked-apache",
   "metadata": {},
   "outputs": [],
   "source": [
    "import torch\n",
    "import torch.nn as nn\n",
    "from sklearn.model_selection import train_test_split\n",
    "import pandas as pd"
   ]
  },
  {
   "cell_type": "code",
   "execution_count": 5,
   "id": "lesbian-parking",
   "metadata": {},
   "outputs": [],
   "source": [
    "df = pd.read_csv('donnees.csv')"
   ]
  },
  {
   "cell_type": "code",
   "execution_count": null,
   "id": "likely-software",
   "metadata": {},
   "outputs": [],
   "source": []
  }
 ],
 "metadata": {
  "kernelspec": {
   "display_name": "Python 3",
   "language": "python",
   "name": "python3"
  },
  "language_info": {
   "codemirror_mode": {
    "name": "ipython",
    "version": 3
   },
   "file_extension": ".py",
   "mimetype": "text/x-python",
   "name": "python",
   "nbconvert_exporter": "python",
   "pygments_lexer": "ipython3",
   "version": "3.9.2"
  }
 },
 "nbformat": 4,
 "nbformat_minor": 5
}
